{
 "cells": [
  {
   "cell_type": "markdown",
   "metadata": {
    "colab_type": "text",
    "id": "8S3ekQ96MDyK"
   },
   "source": [
    "## Importing Libraries"
   ]
  },
  {
   "cell_type": "code",
   "execution_count": 1,
   "metadata": {
    "colab": {},
    "colab_type": "code",
    "id": "t3aACDe0gjo8"
   },
   "outputs": [],
   "source": [
    "import tflearn\n",
    "from tflearn.layers.conv import conv_2d, max_pool_2d\n",
    "from tflearn.layers.core import input_data, dropout, fully_connected\n",
    "from tflearn.layers.estimator import regression\n",
    "import matplotlib.pyplot as plt"
   ]
  },
  {
   "cell_type": "code",
   "execution_count": 2,
   "metadata": {
    "colab": {},
    "colab_type": "code",
    "id": "YJmFRtsjMjSv"
   },
   "outputs": [],
   "source": [
    "import cv2 #Used to resize images\n",
    "import numpy as np\n",
    "import os\n",
    "from random import shuffle\n",
    "from tqdm import tqdm #This is a professional progressbar library\n",
    "from sklearn.metrics import confusion_matrix\n",
    "import itertools"
   ]
  },
  {
   "cell_type": "markdown",
   "metadata": {
    "colab_type": "text",
    "id": "70WiAkJqluoN"
   },
   "source": [
    "## Data Preprocessing"
   ]
  },
  {
   "cell_type": "code",
   "execution_count": 3,
   "metadata": {
    "colab": {},
    "colab_type": "code",
    "id": "4PnSd7q2NPoH"
   },
   "outputs": [],
   "source": [
    "data_dir = './logs/'\n",
    "train_data_dir = './data/train/'\n",
    "test_data_dir = './data/test/'\n",
    "\n",
    "#img_width, img_height = 800, 240\n",
    "img_width, img_height = 150, 50 #width and height to reduce the size of the image to\n",
    "\n",
    "learning_rate = 0.001\n",
    "model_name = \"boats_classifier-{}-{}\".format(str(learning_rate)+\"LR\", \"6conv-GrayScale\") #Descriptive name to save the model"
   ]
  },
  {
   "cell_type": "code",
   "execution_count": 4,
   "metadata": {
    "colab": {
     "base_uri": "https://localhost:8080/",
     "height": 34
    },
    "colab_type": "code",
    "id": "_Vi_H3txQinl",
    "outputId": "543dba27-d52a-49de-c12f-db5e012e81c1"
   },
   "outputs": [
    {
     "name": "stdout",
     "output_type": "stream",
     "text": [
      "['Mototopo', 'Patanella', 'VaporettoACTV']\n"
     ]
    }
   ],
   "source": [
    "classes = [f.name for f in os.scandir(train_data_dir) if f.is_dir()]\n",
    "print(classes)"
   ]
  },
  {
   "cell_type": "code",
   "execution_count": 5,
   "metadata": {
    "colab": {},
    "colab_type": "code",
    "id": "6GgIp-E-EbsC"
   },
   "outputs": [],
   "source": [
    "def one_hot_label(lbl_class):\n",
    "  if lbl_class == \"Mototopo\":\n",
    "    return [1, 0, 0]\n",
    "  elif lbl_class == \"Patanella\":\n",
    "    return [0, 1, 0]\n",
    "  elif lbl_class == \"VaporettoACTV\":\n",
    "    return [0, 0, 1]"
   ]
  },
  {
   "cell_type": "markdown",
   "metadata": {
    "colab_type": "text",
    "id": "hBOUKNYom_xg"
   },
   "source": [
    "### Preparing Training Data"
   ]
  },
  {
   "cell_type": "code",
   "execution_count": 6,
   "metadata": {
    "colab": {
     "base_uri": "https://localhost:8080/",
     "height": 34
    },
    "colab_type": "code",
    "id": "XQqMxLwfQkA4",
    "outputId": "4c0e3a40-1ce2-4d47-b6fc-c984d6e03af0"
   },
   "outputs": [
    {
     "name": "stderr",
     "output_type": "stream",
     "text": [
      "4it [00:24,  6.69s/it]\n"
     ]
    }
   ],
   "source": [
    "ytrain = []\n",
    "train_data = []\n",
    "Xtrain = []\n",
    "\n",
    "for root, dirs, files in tqdm(os.walk(train_data_dir)):\n",
    "  for file in files:\n",
    "    yclass = root.split(\"/\")[-1]\n",
    "    img = cv2.resize(cv2.imread(os.path.join(root,file), cv2.IMREAD_GRAYSCALE), (img_width, img_height)) #read image and resize it\n",
    "    \n",
    "    label = one_hot_label(root.split(\"/\")[-1])\n",
    "    Xtrain.append(np.array(img))\n",
    "    ytrain.append(np.array(label))\n",
    "    train_data.append([np.array(img), np.array(label)])\n",
    "    \n",
    "shuffle(train_data)\n",
    "np.save(data_dir+\"train_data.npy\", train_data)\n"
   ]
  },
  {
   "cell_type": "code",
   "execution_count": 7,
   "metadata": {
    "colab": {
     "base_uri": "https://localhost:8080/",
     "height": 34
    },
    "colab_type": "code",
    "id": "Ff5bB6kAaM8n",
    "outputId": "eedd066e-ded8-48d4-b237-513f8dc8a4c3"
   },
   "outputs": [
    {
     "data": {
      "text/plain": [
       "2106"
      ]
     },
     "execution_count": 7,
     "metadata": {},
     "output_type": "execute_result"
    }
   ],
   "source": [
    "len(Xtrain)\n",
    "#Xtrain[0].shape\n",
    "#train_data[3][1]\n",
    "# temp = train_data[:-50]\n",
    "# temp2 = train_data[-50:]"
   ]
  },
  {
   "cell_type": "markdown",
   "metadata": {
    "colab_type": "text",
    "id": "NRkwf027nFfl"
   },
   "source": [
    "### Preparing Labeled Test Data"
   ]
  },
  {
   "cell_type": "code",
   "execution_count": 8,
   "metadata": {
    "colab": {
     "base_uri": "https://localhost:8080/",
     "height": 34
    },
    "colab_type": "code",
    "id": "ck6vAnrVqskc",
    "outputId": "7b932568-2947-4083-bac3-0b1ef0c3915b"
   },
   "outputs": [
    {
     "name": "stderr",
     "output_type": "stream",
     "text": [
      "4it [00:06,  1.69s/it]\n"
     ]
    }
   ],
   "source": [
    "ytest = []\n",
    "Xtest = []\n",
    "test_data = []\n",
    "\n",
    "for root, dirs, files in tqdm(os.walk(test_data_dir)):\n",
    "  for file in files:\n",
    "    yclass = root.split(\"/\")[-1]\n",
    "    img = cv2.resize(cv2.imread(os.path.join(root,file), cv2.IMREAD_GRAYSCALE), (img_width, img_height)) #read image and resize it\n",
    "    \n",
    "    label = one_hot_label(root.split(\"/\")[-1])\n",
    "    test_data.append([np.array(img), np.array(label)])\n",
    "    Xtest.append(np.array(img))\n",
    "    ytest.append(np.array(label))\n",
    "    \n",
    "np.save(data_dir+\"test_data.npy\", test_data)\n"
   ]
  },
  {
   "cell_type": "code",
   "execution_count": 9,
   "metadata": {
    "colab": {
     "base_uri": "https://localhost:8080/",
     "height": 34
    },
    "colab_type": "code",
    "id": "6IU8uqBe2MNf",
    "outputId": "f6c17aa1-9ade-45d7-fc9f-1aed3de4cddd"
   },
   "outputs": [
    {
     "data": {
      "text/plain": [
       "683"
      ]
     },
     "execution_count": 9,
     "metadata": {},
     "output_type": "execute_result"
    }
   ],
   "source": [
    "len(Xtest)"
   ]
  },
  {
   "cell_type": "code",
   "execution_count": 10,
   "metadata": {
    "colab": {
     "base_uri": "https://localhost:8080/",
     "height": 185
    },
    "colab_type": "code",
    "id": "D5ipEzLDRyb1",
    "outputId": "12f1c587-04fb-4c32-e645-6b9015eda98d",
    "scrolled": true
   },
   "outputs": [
    {
     "data": {
      "image/png": "[encoded data removed]",
      "text/plain": [
       "<Figure size 432x288 with 1 Axes>"
      ]
     },
     "metadata": {
      "needs_background": "light"
     },
     "output_type": "display_data"
    }
   ],
   "source": [
    "plt.imshow(Xtrain[34], cmap=\"gray\")\n",
    "plt.show()"
   ]
  },
  {
   "cell_type": "markdown",
   "metadata": {
    "colab_type": "text",
    "id": "5afVv6vAhDcp"
   },
   "source": [
    "## The Convolutional Layer"
   ]
  },
  {
   "cell_type": "code",
   "execution_count": 11,
   "metadata": {
    "colab": {
     "base_uri": "https://localhost:8080/",
     "height": 139
    },
    "colab_type": "code",
    "id": "7AZglqYadyUB",
    "outputId": "94cdaace-3d37-4e75-a728-c8d81b442066"
   },
   "outputs": [
    {
     "name": "stdout",
     "output_type": "stream",
     "text": [
      "WARNING:tensorflow:From /home/sayomakinwa/anaconda3/envs/tf_env/lib/python3.6/site-packages/tflearn/initializations.py:119: UniformUnitScaling.__init__ (from tensorflow.python.ops.init_ops) is deprecated and will be removed in a future version.\n",
      "Instructions for updating:\n",
      "Use tf.initializers.variance_scaling instead with distribution=uniform to get equivalent behavior.\n",
      "WARNING:tensorflow:From /home/sayomakinwa/anaconda3/envs/tf_env/lib/python3.6/site-packages/tflearn/objectives.py:66: calling reduce_sum (from tensorflow.python.ops.math_ops) with keep_dims is deprecated and will be removed in a future version.\n",
      "Instructions for updating:\n",
      "keep_dims is deprecated, use keepdims instead\n"
     ]
    }
   ],
   "source": [
    "convnet = input_data(shape=[None, img_width, img_height, 1], name='input')\n",
    "\n",
    "convnet = conv_2d(convnet, 32, 2, activation='relu')\n",
    "convnet = max_pool_2d(convnet, 2)\n",
    "\n",
    "convnet = conv_2d(convnet, 64, 2, activation='relu')\n",
    "convnet = max_pool_2d(convnet, 2)\n",
    "\n",
    "convnet = conv_2d(convnet, 32, 2, activation='relu')\n",
    "convnet = max_pool_2d(convnet, 2)\n",
    "\n",
    "convnet = conv_2d(convnet, 64, 2, activation='relu')\n",
    "convnet = max_pool_2d(convnet, 2)\n",
    "\n",
    "convnet = conv_2d(convnet, 32, 2, activation='relu')\n",
    "convnet = max_pool_2d(convnet, 2)\n",
    "\n",
    "convnet = conv_2d(convnet, 64, 2, activation='relu')\n",
    "convnet = max_pool_2d(convnet, 2)\n",
    "\n",
    "convnet = fully_connected(convnet, 1024, activation='relu')\n",
    "convnet = dropout(convnet, 0.8)\n",
    "\n",
    "convnet = fully_connected(convnet, 3, activation='softmax') #we're trying to predict three classes\n",
    "convnet = regression(convnet, optimizer='adam', learning_rate=learning_rate, loss='categorical_crossentropy', name='targets')\n",
    "\n",
    "model = tflearn.DNN(convnet, tensorboard_dir=data_dir)\n"
   ]
  },
  {
   "cell_type": "code",
   "execution_count": 12,
   "metadata": {
    "colab": {},
    "colab_type": "code",
    "id": "u_OexqF6eHzn"
   },
   "outputs": [],
   "source": [
    "Xtrain = np.array([data for data in Xtrain]).reshape(-1, img_width, img_height, 1)\n",
    "Xtest = np.array([data for data in Xtest]).reshape(-1, img_width, img_height, 1)"
   ]
  },
  {
   "cell_type": "code",
   "execution_count": 13,
   "metadata": {
    "colab": {
     "base_uri": "https://localhost:8080/",
     "height": 102
    },
    "colab_type": "code",
    "id": "UTxEkEp3eHwo",
    "outputId": "1c5012e0-f37a-45f3-92f7-01a7bbd50913"
   },
   "outputs": [
    {
     "name": "stdout",
     "output_type": "stream",
     "text": [
      "(2106, 150, 50, 1)\n",
      "2106\n",
      "(683, 150, 50, 1)\n",
      "683\n"
     ]
    },
    {
     "data": {
      "text/plain": [
       "(150, 50, 1)"
      ]
     },
     "execution_count": 13,
     "metadata": {},
     "output_type": "execute_result"
    }
   ],
   "source": [
    "print(Xtrain.shape)\n",
    "print(len(ytrain))\n",
    "print(Xtest.shape)\n",
    "print(len(ytest))\n",
    "\n",
    "Xtrain[0].shape"
   ]
  },
  {
   "cell_type": "code",
   "execution_count": 14,
   "metadata": {
    "colab": {},
    "colab_type": "code",
    "id": "vfO-8peQdyZm"
   },
   "outputs": [
    {
     "name": "stdout",
     "output_type": "stream",
     "text": [
      "Training Step: 989  | total loss: \u001b[1m\u001b[32m0.03394\u001b[0m\u001b[0m | time: 21.973s\n",
      "| Adam | epoch: 030 | loss: 0.03394 - acc: 0.9893 -- iter: 2048/2106\n",
      "Training Step: 990  | total loss: \u001b[1m\u001b[32m0.04160\u001b[0m\u001b[0m | time: 24.137s\n",
      "| Adam | epoch: 030 | loss: 0.04160 - acc: 0.9856 | val_loss: 0.40386 - val_acc: 0.8931 -- iter: 2106/2106\n",
      "--\n",
      "INFO:tensorflow:/home/sayomakinwa/dev/ml/boats/boats_classifier-0.001LR-6conv-GrayScale is not in all_model_checkpoint_paths. Manually adding it.\n",
      "Trained model saved for later use\n"
     ]
    }
   ],
   "source": [
    "if os.path.exists('{}.meta'.format(model_name)):\n",
    "    model.load(model_name)\n",
    "    print(\"Using a pre-saved model\")\n",
    "else:\n",
    "    print(\"Training a new model\")\n",
    "    model.fit({'input': Xtrain}, {'targets': ytrain}, n_epoch=30, validation_set=({'input': Xtest}, {'targets': ytest}), \n",
    "        snapshot_step=50, show_metric=True, run_id=model_name)\n",
    "    model.save(model_name)\n",
    "    print(\"Trained model saved for later use\")"
   ]
  },
  {
   "cell_type": "code",
   "execution_count": 15,
   "metadata": {
    "colab": {},
    "colab_type": "code",
    "id": "fLjbWchbbtmW"
   },
   "outputs": [],
   "source": [
    "#tensorboard --logdir='./logs/'"
   ]
  },
  {
   "cell_type": "markdown",
   "metadata": {},
   "source": [
    "## Some Predictions"
   ]
  },
  {
   "cell_type": "code",
   "execution_count": 16,
   "metadata": {
    "colab": {},
    "colab_type": "code",
    "id": "puDsZycvYZnC"
   },
   "outputs": [
    {
     "data": {
      "image/png": "[encoded data removed]",
      "text/plain": [
       "<Figure size 432x288 with 15 Axes>"
      ]
     },
     "metadata": {
      "needs_background": "light"
     },
     "output_type": "display_data"
    }
   ],
   "source": [
    "fig = plt.figure()\n",
    "actual_labels = []\n",
    "predicted_labels = []\n",
    "k = 0\n",
    "\n",
    "for idx, data in enumerate(test_data):\n",
    "    #Mototopo: [1, 0, 0]\n",
    "    #Patanella: [0, 1, 0]\n",
    "    #VaporettoACTV: [0, 0, 1]\n",
    "    \n",
    "    img_data = data[0]\n",
    "    class_num = data[1]\n",
    "    \n",
    "    data_for_pred = img_data.reshape(img_width, img_height, 1)\n",
    "    model_output = model.predict([data_for_pred])[0]\n",
    "    \n",
    "    #Limiting this to output just 15 images\n",
    "    if (k < 15):\n",
    "        subplot = fig.add_subplot(3, 5, idx+1)\n",
    "        if np.argmax(model_output) == 0 and class_num[0]: text = \"Match\"\n",
    "        elif np.argmax(model_output) == 1 and class_num[1]: text = \"Match\"\n",
    "        elif np.argmax(model_output) == 2 and class_num[2]: text = \"Match\"\n",
    "        else: text = \"Wrong\"\n",
    "        subplot.imshow(img_data, cmap='gray')\n",
    "        plt.title(text)\n",
    "        subplot.axes.get_xaxis().set_visible(False)\n",
    "        subplot.axes.get_yaxis().set_visible(False)\n",
    "        k += 1\n",
    "    #Ends here\n",
    "        \n",
    "    #for confusion matrix computation\n",
    "    actual_labels.append(classes[np.argmax(class_num)])\n",
    "    predicted_labels.append(classes[np.argmax(model_output)])\n",
    "    \n",
    "plt.show()\n"
   ]
  },
  {
   "cell_type": "markdown",
   "metadata": {
    "colab": {},
    "colab_type": "code",
    "id": "z38OGw9KYZlQ"
   },
   "source": [
    "## Understanding Results and Predictions with Confusion Matrix"
   ]
  },
  {
   "cell_type": "code",
   "execution_count": 17,
   "metadata": {
    "colab": {},
    "colab_type": "code",
    "id": "QhT3XzU32Mdr"
   },
   "outputs": [],
   "source": [
    "def plot_confusion_matrix(cm, classes,\n",
    "                          normalize=False,\n",
    "                          title='Confusion matrix',\n",
    "                          cmap=plt.cm.Blues):\n",
    "    \"\"\"\n",
    "    This function prints and plots the confusion matrix.\n",
    "    Normalization can be applied by setting `normalize=True`.\n",
    "    \"\"\"\n",
    "    if normalize:\n",
    "        cm = cm.astype('float') / cm.sum(axis=1)[:, np.newaxis]\n",
    "        print(\"Normalized confusion matrix\")\n",
    "    else:\n",
    "        print('Confusion matrix, without normalization')\n",
    "\n",
    "    print(cm)\n",
    "\n",
    "    plt.imshow(cm, interpolation='nearest', cmap=cmap)\n",
    "    plt.title(title)\n",
    "    plt.colorbar()\n",
    "    tick_marks = np.arange(len(classes))\n",
    "    plt.xticks(tick_marks, classes, rotation=45)\n",
    "    plt.yticks(tick_marks, classes)\n",
    "\n",
    "    fmt = '.2f' if normalize else 'd'\n",
    "    thresh = cm.max() / 2.\n",
    "    for i, j in itertools.product(range(cm.shape[0]), range(cm.shape[1])):\n",
    "        plt.text(j, i, format(cm[i, j], fmt),\n",
    "                 horizontalalignment=\"center\",\n",
    "                 color=\"white\" if cm[i, j] > thresh else \"black\")\n",
    "\n",
    "    plt.ylabel('True label')\n",
    "    plt.xlabel('Predicted label')\n",
    "    plt.tight_layout()"
   ]
  },
  {
   "cell_type": "code",
   "execution_count": 18,
   "metadata": {
    "colab": {},
    "colab_type": "code",
    "id": "HXEHZO3H2Mhn"
   },
   "outputs": [
    {
     "name": "stdout",
     "output_type": "stream",
     "text": [
      "Confusion matrix, without normalization\n",
      "[[236  40   8]\n",
      " [ 21  53   0]\n",
      " [  3   1 321]]\n",
      "Normalized confusion matrix\n",
      "[[0.83 0.14 0.03]\n",
      " [0.28 0.72 0.  ]\n",
      " [0.01 0.   0.99]]\n"
     ]
    },
    {
     "data": {
      "image/png": "[encoded data removed]",
      "text/plain": [
       "<Figure size 432x288 with 2 Axes>"
      ]
     },
     "metadata": {
      "needs_background": "light"
     },
     "output_type": "display_data"
    },
    {
     "data": {
      "image/png": "[encoded data removed]",
      "text/plain": [
       "<Figure size 432x288 with 2 Axes>"
      ]
     },
     "metadata": {
      "needs_background": "light"
     },
     "output_type": "display_data"
    }
   ],
   "source": [
    "# Compute confusion matrix\n",
    "cnf_matrix = confusion_matrix(actual_labels, predicted_labels)\n",
    "np.set_printoptions(precision=2)\n",
    "\n",
    "# Plot non-normalized confusion matrix\n",
    "plt.figure()\n",
    "plot_confusion_matrix(cnf_matrix, classes=classes,\n",
    "                      title='Unnormalised Confusion matrix')\n",
    "\n",
    "# Plot normalized confusion matrix\n",
    "plt.figure()\n",
    "plot_confusion_matrix(cnf_matrix, classes=classes, normalize=True,\n",
    "                      title='Normalized confusion matrix')\n",
    "\n",
    "plt.show()"
   ]
  },
  {
   "cell_type": "code",
   "execution_count": null,
   "metadata": {
    "colab": {},
    "colab_type": "code",
    "id": "U_ahvPU22M0l"
   },
   "outputs": [],
   "source": []
  },
  {
   "cell_type": "code",
   "execution_count": null,
   "metadata": {
    "colab": {},
    "colab_type": "code",
    "id": "XWORdA9d2M6J"
   },
   "outputs": [],
   "source": []
  },
  {
   "cell_type": "code",
   "execution_count": null,
   "metadata": {
    "colab": {},
    "colab_type": "code",
    "id": "T-M9g9nk2MbX"
   },
   "outputs": [],
   "source": []
  }
 ],
 "metadata": {
  "accelerator": "TPU",
  "colab": {
   "name": "Keras_Test_1.ipynb",
   "provenance": [],
   "version": "0.3.2"
  },
  "kernelspec": {
   "display_name": "Python 3",
   "language": "python",
   "name": "python3"
  },
  "language_info": {
   "codemirror_mode": {
    "name": "ipython",
    "version": 3
   },
   "file_extension": ".py",
   "mimetype": "text/x-python",
   "name": "python",
   "nbconvert_exporter": "python",
   "pygments_lexer": "ipython3",
   "version": "3.6.7"
  }
 },
 "nbformat": 4,
 "nbformat_minor": 1
}
